{
 "cells": [
  {
   "cell_type": "code",
   "execution_count": 165,
   "metadata": {},
   "outputs": [],
   "source": [
    "import numpy as np\n",
    "import math\n",
    "from matplotlib import pyplot as plt\n",
    "from scipy import spatial\n",
    "import matplotlib.pyplot as plt"
   ]
  },
  {
   "cell_type": "code",
   "execution_count": 196,
   "metadata": {},
   "outputs": [],
   "source": [
    "# 计算城市之间的距离矩阵\n",
    "def matrix_dis(N,city):\n",
    "        res = np.zeros((N,N))\n",
    "        for i in range(N):\n",
    "            for j in range(i+1,N):\n",
    "                res[i,j] = np.linalg.norm(city[i,:]-city[j,:])\n",
    "                res[j,i] = res[i,j]\n",
    "        return res\n",
    "\n",
    "\n",
    "# 动态方程计算微分方程du\n",
    "def calc_du(V, distance):\n",
    "    a = np.sum(V, axis=0) - 1  # 按列相加\n",
    "    b = np.sum(V, axis=1) - 1  # 按行相加\n",
    "    t1 = np.zeros((N, N))\n",
    "    t2 = np.zeros((N, N))\n",
    "    for i in range(N):\n",
    "        for j in range(N):\n",
    "            t1[i, j] = a[j]\n",
    "    for i in range(N):\n",
    "        for j in range(N):\n",
    "            t2[j, i] = b[j]\n",
    "    # 将第一列移动到最后一列\n",
    "    c_1 = V[:, 1:N]\n",
    "    c_0 = np.zeros((N, 1))\n",
    "    c_0[:, 0] = V[:, 0]\n",
    "    c = np.concatenate((c_1, c_0), axis=1)\n",
    "    c = np.dot(distance, c)\n",
    "    return -A * (t1 + t2) - D * c\n",
    "# 更新输入电压U\n",
    "def update_U(U, du, step):\n",
    "    return U + du * step\n",
    "# 更新输出电压V\n",
    "def update_V(U, U0):\n",
    "    return 1 / 2 * (1 + np.tanh(U / U0))\n",
    "def calc_distance(path):\n",
    "    dis = 0.0\n",
    "    for i in range(len(path) - 1):\n",
    "        dis += distance[path[i]][path[i+1]]\n",
    "    return dis\n",
    "\n",
    "# 计算当前网络的能量\n",
    "def calc_energy(V, distance):\n",
    "    t1 = np.sum(np.power(np.sum(V, axis=0) - 1, 2))\n",
    "    t2 = np.sum(np.power(np.sum(V, axis=1) - 1, 2))\n",
    "    idx = [i for i in range(1, N)]\n",
    "    idx = idx + [0]\n",
    "    Vt = V[:, idx]\n",
    "    t3 = distance * Vt\n",
    "    t3 = np.sum(np.sum(np.multiply(V, t3)))\n",
    "    e = 0.5 * (A * (t1 + t2) + D * t3)\n",
    "    return e\n",
    "# 检查路径的正确性\n",
    "def check_path(V):\n",
    "    newV = np.zeros([N, N])\n",
    "    route = []\n",
    "    for i in range(N):\n",
    "        mm = np.max(V[:, i])\n",
    "        for j in range(N):\n",
    "            if V[j, i] == mm:\n",
    "                newV[j, i] = 1\n",
    "                route += [j]\n",
    "                break\n",
    "    return route, newV\n",
    "# 可视化画出哈密顿回路和能量趋势\n",
    "def draw_H_and_E(citys, H_path, energys,f=0):\n",
    "    fig = plt.figure()\n",
    "    # 绘制哈密顿回路\n",
    "    ax1 = fig.add_subplot(121)\n",
    "    plt.xlim(0, 7)\n",
    "    plt.ylim(0, 7)\n",
    "    for (from_, to_) in H_path:\n",
    "        p1 = plt.Circle(citys[from_], 0.2, color='red')\n",
    "        p2 = plt.Circle(citys[to_], 0.2, color='red')\n",
    "        ax1.add_patch(p1)\n",
    "        ax1.add_patch(p2)\n",
    "        ax1.plot((citys[from_][0], citys[to_][0]), (citys[from_][1], citys[to_][1]), color='red')\n",
    "        ax1.annotate(s=chr(97 + to_), xy=citys[to_], xytext=(-8, -4), textcoords='offset points', fontsize=20)\n",
    "    ax1.axis('equal')\n",
    "    ax1.grid()\n",
    "    # 绘制能量趋势图\n",
    "    if f==0:\n",
    "        ax2 = fig.add_subplot(122)\n",
    "        ax2.plot(np.arange(0, len(energys), 1), energys, color='red')\n",
    "        plt.show()"
   ]
  },
  {
   "cell_type": "code",
   "execution_count": 167,
   "metadata": {},
   "outputs": [
    {
     "name": "stdout",
     "output_type": "stream",
     "text": [
      "经10000次迭代找到的次优解距离为：30.263427181896528，能量为：228.61960407679297，路径为：\n",
      "b,g,a,f,i,c,d,j,e,h,b\n"
     ]
    },
    {
     "data": {
      "image/png": "[encoded data removed]",
      "text/plain": [
       "<Figure size 432x288 with 2 Axes>"
      ]
     },
     "metadata": {
      "needs_background": "light"
     },
     "output_type": "display_data"
    }
   ],
   "source": [
    "np.random.seed(20)\n",
    "citys = np.random.rand(10,2)*10 \n",
    "N = len(citys)#城市数目\n",
    "distance = matrix_dis(N,citys)\n",
    "D = N / 2\n",
    "A= N*N/2\n",
    "U0 = 0.01  # 初始电压\n",
    "step = 0.01  # 步长\n",
    "num_iter = 10000  # 迭代次数\n",
    "U = 1 / 2 * S0 * np.log(N - 1) + (2 * (np.random.random((N, N))) - 1) # 计算初始化神经网络的输入电压S）\n",
    "V = update_V(U, U0)\n",
    "\n",
    "# 开始迭代训练网络\n",
    "#Hpath,citys, H_path, energys=ModelTrain(num_iter,V,U,U0,S,step)\n",
    "energys = np.array([0.0 for x in range(num_iter)])  # 每次迭代的能量\n",
    "best_distance = np.inf  # 最优距离\n",
    "best_route = []  # 最优路线\n",
    "H_path = []  # 路线\n",
    "for n in range(num_iter): #进行迭代\n",
    "    du = calc_du(V, distance)\n",
    "    U = update_U(U, du, step)\n",
    "    V = update_V(U, U0)\n",
    "    energys[n] = calc_energy(V, distance)\n",
    "    route, newV = check_path(V)\n",
    "    #print(route)\n",
    "    if len(np.unique(route)) == N:\n",
    "        route.append(route[0])\n",
    "        dis = calc_distance(route)\n",
    "        if dis < best_distance:\n",
    "            H_path = []\n",
    "            best_distance = dis\n",
    "            best_route = route\n",
    "            [H_path.append((route[i], route[i + 1])) for i in range(len(route) - 1)]\n",
    "if len(H_path) > 0:\n",
    "    print('经{}次迭代找到的次优解距离为：{}，能量为：{}，路径为：'.format(n+1, best_distance, energys[n]))\n",
    "    [print(chr(97 + v), end=',' if i < len(best_route) - 1 else '\\n') for i, v in enumerate(best_route)]\n",
    "    draw_H_and_E(citys, H_path, energys)    "
   ]
  },
  {
   "cell_type": "code",
   "execution_count": 195,
   "metadata": {},
   "outputs": [
    {
     "name": "stdout",
     "output_type": "stream",
     "text": [
      "经500次迭代找到的次优解距离为：30.263427181896528，路径为：\n",
      "b,h,e,j,d,c,i,f,a,g,b\n",
      "\n"
     ]
    },
    {
     "data": {
      "image/png": "[encoded data removed]",
      "text/plain": [
       "<Figure size 432x288 with 1 Axes>"
      ]
     },
     "metadata": {
      "needs_background": "light"
     },
     "output_type": "display_data"
    }
   ],
   "source": [
    "#使用遗传算法进行数值验证\n",
    "num_points = N\n",
    "np.random.seed(20)\n",
    "points_coordinate = np.random.rand(10,2)*10   # generate coordinate of points\n",
    "distance_matrix = matrix_dis(N,citys)\n",
    "\n",
    "\n",
    "def cal_total_distance(routine):\n",
    "    num_points, = routine.shape\n",
    "    return sum([distance_matrix[routine[i % num_points], routine[(i + 1) % num_points]] for i in range(num_points)])\n",
    "\n",
    "\n",
    "ga_tsp = GA_TSP(func=cal_total_distance, n_dim=num_points, size_pop=50, max_iter=500, prob_mut=1)\n",
    "best_points, best_distance = ga_tsp.run()\n",
    "best_points_ = np.concatenate([best_points, [best_points[0]]])\n",
    "best_points_coordinate = points_coordinate[best_points_, :]\n",
    "best_points_route=list(best_points)\n",
    "best_points_route.append(list(best_points)[0])\n",
    "H2_path=[]\n",
    "[H2_path.append((best_points_route[i], best_points_route[i + 1])) for i in range(len(best_points_route) - 1)]\n",
    "draw_H_and_E(points_coordinate,H2_path,None,f=1)\n",
    "print('经{}次迭代找到的次优解距离为：{}，路径为：'.format(500,calc_distance(best_points_route),best_points_route))\n",
    "[print(chr(97 + v), end=',' if i < len(best_points_route) - 1 else '\\n') for i, v in enumerate(best_points_route)]\n",
    "print('')"
   ]
  },
  {
   "cell_type": "code",
   "execution_count": null,
   "metadata": {},
   "outputs": [],
   "source": []
  }
 ],
 "metadata": {
  "kernelspec": {
   "display_name": "Python 3",
   "language": "python",
   "name": "python3"
  },
  "language_info": {
   "codemirror_mode": {
    "name": "ipython",
    "version": 3
   },
   "file_extension": ".py",
   "mimetype": "text/x-python",
   "name": "python",
   "nbconvert_exporter": "python",
   "pygments_lexer": "ipython3",
   "version": "3.7.4"
  }
 },
 "nbformat": 4,
 "nbformat_minor": 2
}
