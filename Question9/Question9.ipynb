{
 "cells": [
  {
   "cell_type": "code",
   "execution_count": 4,
   "metadata": {},
   "outputs": [],
   "source": [
    "import os\n",
    "import re\n",
    "import pandas as pd\n",
    "\n",
    "def get_filelist(dir): #读取所有txt\n",
    "    FileList = []\n",
    "    for home,dirs,files in os.walk(path):\n",
    "        for filename in files:\n",
    "            FileList.append(os.path.join(home,filename))\n",
    "    return FileList\n",
    "\n",
    "def filter_str(desstr, restr=' '):\n",
    "    # 过滤除中英文以外的其他字符\n",
    "    res = re.compile(\"[^\\\\u4e00-\\\\u9fa5^a-z^A-Z]\")\n",
    "    return res.sub(restr, desstr)\n",
    "\n",
    "def cutEmail(filename):\n",
    "    with  open(filename, \"r\",encoding='GB2312', errors='ignore') as f:\n",
    "        lines=f.read()\n",
    "        return filter_str(lines)"
   ]
  },
  {
   "cell_type": "code",
   "execution_count": 33,
   "metadata": {},
   "outputs": [],
   "source": [
    "path='./ham'\n",
    "textlist=[]\n",
    "for hamemail in get_filelist(dir):\n",
    "    textlist.append(['ham',cutEmail(hamemail),0])\n",
    "\n",
    "path='./spam'\n",
    "for hamemail in get_filelist(dir):\n",
    "    textlist.append(['spam',cutEmail(hamemail),1])    \n",
    "df=pd.DataFrame(textlist,columns =['HamSpam', 'text', 'Value'])\n"
   ]
  },
  {
   "cell_type": "code",
   "execution_count": 34,
   "metadata": {},
   "outputs": [
    {
     "data": {
      "text/html": [
       "<div>\n",
       "<style scoped>\n",
       "    .dataframe tbody tr th:only-of-type {\n",
       "        vertical-align: middle;\n",
       "    }\n",
       "\n",
       "    .dataframe tbody tr th {\n",
       "        vertical-align: top;\n",
       "    }\n",
       "\n",
       "    .dataframe thead th {\n",
       "        text-align: right;\n",
       "    }\n",
       "</style>\n",
       "<table border=\"1\" class=\"dataframe\">\n",
       "  <thead>\n",
       "    <tr style=\"text-align: right;\">\n",
       "      <th></th>\n",
       "      <th>HamSpam</th>\n",
       "      <th>text</th>\n",
       "      <th>Value</th>\n",
       "    </tr>\n",
       "  </thead>\n",
       "  <tbody>\n",
       "    <tr>\n",
       "      <td>0</td>\n",
       "      <td>ham</td>\n",
       "      <td>Subject  re   rankings thank you</td>\n",
       "      <td>0</td>\n",
       "    </tr>\n",
       "    <tr>\n",
       "      <td>1</td>\n",
       "      <td>ham</td>\n",
       "      <td>Subject  re   visit to enron vince   dec      ...</td>\n",
       "      <td>0</td>\n",
       "    </tr>\n",
       "    <tr>\n",
       "      <td>2</td>\n",
       "      <td>ham</td>\n",
       "      <td>Subject  research group move to the    th floo...</td>\n",
       "      <td>0</td>\n",
       "    </tr>\n",
       "    <tr>\n",
       "      <td>3</td>\n",
       "      <td>ham</td>\n",
       "      <td>Subject  christmas baskets the christmas baske...</td>\n",
       "      <td>0</td>\n",
       "    </tr>\n",
       "    <tr>\n",
       "      <td>4</td>\n",
       "      <td>ham</td>\n",
       "      <td>Subject  japan candidate vince   i spoke with ...</td>\n",
       "      <td>0</td>\n",
       "    </tr>\n",
       "    <tr>\n",
       "      <td>...</td>\n",
       "      <td>...</td>\n",
       "      <td>...</td>\n",
       "      <td>...</td>\n",
       "    </tr>\n",
       "    <tr>\n",
       "      <td>5852</td>\n",
       "      <td>spam</td>\n",
       "      <td>Subject  tetm        interest            ha ht...</td>\n",
       "      <td>1</td>\n",
       "    </tr>\n",
       "    <tr>\n",
       "      <td>5853</td>\n",
       "      <td>spam</td>\n",
       "      <td>Subject  localized software   all languages av...</td>\n",
       "      <td>1</td>\n",
       "    </tr>\n",
       "    <tr>\n",
       "      <td>5854</td>\n",
       "      <td>spam</td>\n",
       "      <td>Subject  instant branded software download sof...</td>\n",
       "      <td>1</td>\n",
       "    </tr>\n",
       "    <tr>\n",
       "      <td>5855</td>\n",
       "      <td>spam</td>\n",
       "      <td>Subject  localized software   all languages av...</td>\n",
       "      <td>1</td>\n",
       "    </tr>\n",
       "    <tr>\n",
       "      <td>5856</td>\n",
       "      <td>spam</td>\n",
       "      <td>Subject  microsoft autoroute      dvd uk      ...</td>\n",
       "      <td>1</td>\n",
       "    </tr>\n",
       "  </tbody>\n",
       "</table>\n",
       "<p>5857 rows × 3 columns</p>\n",
       "</div>"
      ],
      "text/plain": [
       "     HamSpam                                               text  Value\n",
       "0        ham                 Subject  re   rankings thank you        0\n",
       "1        ham  Subject  re   visit to enron vince   dec      ...      0\n",
       "2        ham  Subject  research group move to the    th floo...      0\n",
       "3        ham  Subject  christmas baskets the christmas baske...      0\n",
       "4        ham  Subject  japan candidate vince   i spoke with ...      0\n",
       "...      ...                                                ...    ...\n",
       "5852    spam  Subject  tetm        interest            ha ht...      1\n",
       "5853    spam  Subject  localized software   all languages av...      1\n",
       "5854    spam  Subject  instant branded software download sof...      1\n",
       "5855    spam  Subject  localized software   all languages av...      1\n",
       "5856    spam  Subject  microsoft autoroute      dvd uk      ...      1\n",
       "\n",
       "[5857 rows x 3 columns]"
      ]
     },
     "execution_count": 34,
     "metadata": {},
     "output_type": "execute_result"
    }
   ],
   "source": [
    "df"
   ]
  },
  {
   "cell_type": "code",
   "execution_count": 35,
   "metadata": {},
   "outputs": [],
   "source": [
    "#计算词频\n",
    "from sklearn.feature_extraction.text import CountVectorizer\n",
    "vectorizer1 = CountVectorizer(binary=True)"
   ]
  },
  {
   "cell_type": "code",
   "execution_count": 36,
   "metadata": {},
   "outputs": [],
   "source": [
    "X = vectorizer1.fit_transform(df['text'])\n",
    "y = df['Value']"
   ]
  },
  {
   "cell_type": "code",
   "execution_count": 46,
   "metadata": {},
   "outputs": [
    {
     "name": "stdout",
     "output_type": "stream",
     "text": [
      "训练数据中的样本个数:  4685 测试数据中的样本个数:  1172\n"
     ]
    }
   ],
   "source": [
    "#分开训练和湔试样本\n",
    "from sklearn.model_selection import train_test_split\n",
    "X_train, X_test, y_train, y_test = train_test_split(X, y, test_size=0.20, random_state=20)\n",
    "print (\"训练数据中的样本个数: \", X_train.shape[0], \"测试数据中的样本个数: \", X_test.shape[0])\n"
   ]
  },
  {
   "cell_type": "code",
   "execution_count": 48,
   "metadata": {},
   "outputs": [
    {
     "name": "stdout",
     "output_type": "stream",
     "text": [
      "accuracy on test data:  0.985494880546075\n",
      "recall on test data:    0.9723926380368099\n",
      "precision on test data: 0.9753846153846154\n"
     ]
    }
   ],
   "source": [
    "#选取多项式分布贝叶斯进行建模\n",
    "from sklearn.naive_bayes import MultinomialNB\n",
    "from sklearn.metrics import accuracy_score\n",
    "clf = MultinomialNB(alpha=1, fit_prior=True)\n",
    "clf.fit(X_train, y_train)\n",
    "y_pred = clf.predict(X_test)\n",
    "print(\"accuracy on test data: \", accuracy_score(y_test, y_pred))\n",
    "print(\"recall on test data:   \",recall_score(y_test, y_pred))\n",
    "print(\"precision on test data:\",precision_score(y_test, y_pred))"
   ]
  },
  {
   "cell_type": "code",
   "execution_count": 13,
   "metadata": {},
   "outputs": [
    {
     "data": {
      "text/plain": [
       "array([[867,   3],\n",
       "       [  8, 294]])"
      ]
     },
     "execution_count": 13,
     "metadata": {},
     "output_type": "execute_result"
    }
   ],
   "source": [
    "from sklearn.metrics import confusion_matrix\n",
    "confusion_matrix(y_test, y_pred, labels=[0, 1])"
   ]
  }
 ],
 "metadata": {
  "kernelspec": {
   "display_name": "Python 3",
   "language": "python",
   "name": "python3"
  },
  "language_info": {
   "codemirror_mode": {
    "name": "ipython",
    "version": 3
   },
   "file_extension": ".py",
   "mimetype": "text/x-python",
   "name": "python",
   "nbconvert_exporter": "python",
   "pygments_lexer": "ipython3",
   "version": "3.7.4"
  }
 },
 "nbformat": 4,
 "nbformat_minor": 2
}
